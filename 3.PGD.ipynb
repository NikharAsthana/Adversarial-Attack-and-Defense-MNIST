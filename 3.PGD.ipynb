{
  "cells": [
    {
      "cell_type": "code",
      "execution_count": null,
      "metadata": {
        "colab": {
          "base_uri": "https://localhost:8080/"
        },
        "id": "qpbxzHrrcexi",
        "outputId": "8a833644-ef35-433f-b155-de8ccf4859bb"
      },
      "outputs": [
        {
          "name": "stdout",
          "output_type": "stream",
          "text": [
            "Requirement already satisfied: numpy in /usr/local/lib/python3.11/dist-packages (2.0.2)\n",
            "Collecting numpy\n",
            "  Downloading numpy-2.2.4-cp311-cp311-manylinux_2_17_x86_64.manylinux2014_x86_64.whl.metadata (62 kB)\n",
            "\u001b[2K     \u001b[90m━━━━━━━━━━━━━━━━━━━━━━━━━━━━━━━━━━━━━━━━\u001b[0m \u001b[32m62.0/62.0 kB\u001b[0m \u001b[31m3.7 MB/s\u001b[0m eta \u001b[36m0:00:00\u001b[0m\n",
            "\u001b[?25hDownloading numpy-2.2.4-cp311-cp311-manylinux_2_17_x86_64.manylinux2014_x86_64.whl (16.4 MB)\n",
            "\u001b[2K   \u001b[90m━━━━━━━━━━━━━━━━━━━━━━━━━━━━━━━━━━━━━━━━\u001b[0m \u001b[32m16.4/16.4 MB\u001b[0m \u001b[31m70.8 MB/s\u001b[0m eta \u001b[36m0:00:00\u001b[0m\n",
            "\u001b[?25hInstalling collected packages: numpy\n",
            "  Attempting uninstall: numpy\n",
            "    Found existing installation: numpy 2.0.2\n",
            "    Uninstalling numpy-2.0.2:\n",
            "      Successfully uninstalled numpy-2.0.2\n",
            "\u001b[31mERROR: pip's dependency resolver does not currently take into account all the packages that are installed. This behaviour is the source of the following dependency conflicts.\n",
            "tensorflow 2.18.0 requires numpy<2.1.0,>=1.26.0, but you have numpy 2.2.4 which is incompatible.\n",
            "numba 0.60.0 requires numpy<2.1,>=1.22, but you have numpy 2.2.4 which is incompatible.\u001b[0m\u001b[31m\n",
            "\u001b[0mSuccessfully installed numpy-2.2.4\n"
          ]
        }
      ],
      "source": [
        "##### Building off of FGSM attack #####\n",
        "!pip install -U numpy"
      ]
    },
    {
      "cell_type": "code",
      "execution_count": null,
      "metadata": {
        "colab": {
          "base_uri": "https://localhost:8080/"
        },
        "id": "vzspgCejLKBi",
        "outputId": "2c737ea9-739f-484e-ecba-f66208f353ab"
      },
      "outputs": [
        {
          "name": "stdout",
          "output_type": "stream",
          "text": [
            "Model successfully loaded!\n"
          ]
        }
      ],
      "source": [
        "#Loading the model\n",
        "\n",
        "import torch\n",
        "import torch.nn as nn\n",
        "import torch.nn.functional as F\n",
        "\n",
        "# Define the same CNN model structure as before\n",
        "class CNN(nn.Module):\n",
        "    def __init__(self):\n",
        "        super(CNN, self).__init__()\n",
        "        self.conv1 = nn.Conv2d(1, 32, kernel_size=3, padding=1)\n",
        "        self.conv2 = nn.Conv2d(32, 64, kernel_size=3, padding=1)\n",
        "        self.pool = nn.MaxPool2d(2, 2)\n",
        "        self.fc1 = nn.Linear(64 * 7 * 7, 128)\n",
        "        self.fc2 = nn.Linear(128, 10)\n",
        "\n",
        "    def forward(self, x):\n",
        "        x = self.pool(F.relu(self.conv1(x)))\n",
        "        x = self.pool(F.relu(self.conv2(x)))\n",
        "        x = x.view(-1, 64 * 7 * 7)\n",
        "        x = F.relu(self.fc1(x))\n",
        "        x = self.fc2(x)\n",
        "        return x\n",
        "\n",
        "# Initialize model\n",
        "model = CNN()\n",
        "\n",
        "# Load the saved model state\n",
        "model.load_state_dict(torch.load('/content/mnist_cnn.pth', map_location=torch.device('cuda')))\n",
        "model.eval()  # Set model to evaluation mode\n",
        "\n",
        "print(\"Model successfully loaded!\")"
      ]
    },
    {
      "cell_type": "code",
      "execution_count": null,
      "metadata": {
        "colab": {
          "base_uri": "https://localhost:8080/"
        },
        "id": "843lP3LFI8Yb",
        "outputId": "fa4ce398-244d-4107-c4a1-54d0dac7bce1"
      },
      "outputs": [
        {
          "name": "stderr",
          "output_type": "stream",
          "text": [
            "100%|██████████| 9.91M/9.91M [00:00<00:00, 11.7MB/s]\n",
            "100%|██████████| 28.9k/28.9k [00:00<00:00, 343kB/s]\n",
            "100%|██████████| 1.65M/1.65M [00:00<00:00, 3.22MB/s]\n",
            "100%|██████████| 4.54k/4.54k [00:00<00:00, 8.05MB/s]\n"
          ]
        }
      ],
      "source": [
        "import torchvision.transforms as transforms\n",
        "from torchvision.datasets import MNIST\n",
        "from torch.utils.data import DataLoader\n",
        "\n",
        "\n",
        "# Load the MNIST dataset again\n",
        "transform = transforms.Compose([transforms.ToTensor(), transforms.Normalize((0.5,), (0.5,))])\n",
        "testset = MNIST(root='./data', train=False, download=True, transform=transform)\n",
        "testloader = DataLoader(testset, batch_size=1, shuffle=False) #batch of 1 image loaded\n"
      ]
    },
    {
      "cell_type": "markdown",
      "metadata": {
        "id": "giu22VYlP9hU"
      },
      "source": [
        "\n",
        "What is an Epsilon-Ball?\n",
        "\n",
        "Think of an epsilon-ball as a tiny neighborhood around an image where small changes are allowed,\n",
        "but the image should still look almost the same to the human eye.\n",
        "Imagine you have a handwritten digit \"5\" from MNIST.\n",
        "If we slightly change some pixels,\n",
        "it might still look like a \"5\" to you, but the model might start getting confused.\n",
        "However, if we change too many pixels too much, it might become unrecognizable.\n",
        "\n",
        "To prevent the attack from making huge changes, we restrict how much each pixel can be modified.\n",
        "The epsilon-ball defines the maximum amount of allowed perturbation.\n",
        "It ensures that the adversarial image stays close to the original one.\n",
        "\n",
        "Taking e= 0.3 for experimenting the first time\n",
        "alpha: step size for each iteration is often set as epsilon / no. of steps as it ensures :\n",
        "\n",
        "     1.gradual attack (Instead of making a huge jump in one step, we take small, controlled steps toward fooling the model)\n",
        "     2.staying within the epsilon ball (if alpha is too big we'll go too far from the original image in very few steps, making the perurbation unrealistic)\n",
        "     3.gives higher success rates\n",
        "\n",
        " number of steps:\n",
        "\n",
        "  - More steps, Stronger attack, slower attack\n",
        "\n",
        "  - less steps, weak attack, faster attack\n",
        "\n",
        "\n",
        "Key Considerations for Choosing num_of_steps(K):\n",
        "\n",
        "    - Higher num_of_steps makes attacks stronger\n",
        "        More steps allow the attack to gradually refine perturbations, making adversarial images more effective.\n",
        "        Typically, larger num_of_steps values  are used for stronger attacks.\n",
        "\n",
        "    - Too many steps may not improve results much\n",
        "        At some point, additional steps don’t improve the attack much because the perturbation is already optimal within ϵ.\n",
        "        Diminishing returns: If the attack is already successful, increasing num_of_steps further wastes computation.\n",
        "\n",
        "    - Too few steps make the attack weak\n",
        "        If num_of_steps is too small , the attack may not fully explore the epsilon-ball, making it ineffective.\n",
        "\n",
        "\n"
      ]
    },
    {
      "cell_type": "markdown",
      "metadata": {
        "id": "IUn8gDeMQtct"
      },
      "source": [
        "Madry et al. (2017) \"Towards Deep Learning Models Resistant to Adversarial Attacks\"\n",
        "\n",
        "    Used K=40 for MNIST with ϵ=0.3\n",
        "    Used K=7 for CIFAR-10 with ϵ=8/255\n",
        "    Found that increasing K beyond a certain point had diminishing returns\n",
        "\n",
        "Carlini & Wagner (2017) \"Adversarial Examples Are Not Easily Detected\"\n",
        "\n",
        "    Showed that increasing K improves attack success up to a point, but too high K leads to computational inefficiency without much\n",
        "    gain"
      ]
    },
    {
      "cell_type": "code",
      "execution_count": null,
      "metadata": {
        "colab": {
          "base_uri": "https://localhost:8080/",
          "height": 53
        },
        "id": "H5viPOmKP3Ep",
        "outputId": "7df01fa7-a2f8-44a6-d522-c8ffc8733bbf"
      },
      "outputs": [
        {
          "data": {
            "application/vnd.google.colaboratory.intrinsic+json": {
              "type": "string"
            },
            "text/plain": [
              "'\\nRandom start adds a small random noise to the original image, which helps avoid getting stuck in a particular local optimum.\\nIt encourages exploration of different initial perturbations within the ε-ball, often resulting in stronger adversarial examples.\\nA typical approach is to sample random noise uniformly from [−ε,ε][−ε,ε] and add it to your image before starting the iterative PGD process.\\n'"
            ]
          },
          "execution_count": 3,
          "metadata": {},
          "output_type": "execute_result"
        }
      ],
      "source": [
        "num_of_steps = 40\n",
        "epsilon = 0.3\n",
        "alpha = epsilon / num_of_steps #step size\n",
        "random_start = True # boolean to do random initialization\n",
        "#optional but improves performance.(adding random noise to the vanilla image)\n",
        "#the starting point is randomized within the ε-ball, which can lead to stronger adversarial examples.\n",
        "'''\n",
        "Random start adds a small random noise to the original image, which helps avoid getting stuck in a particular local optimum.\n",
        "It encourages exploration of different initial perturbations within the ε-ball, often resulting in stronger adversarial examples.\n",
        "A typical approach is to sample random noise uniformly from [−ε,ε][−ε,ε] and add it to your image before starting the iterative PGD process.\n",
        "'''"
      ]
    },
    {
      "cell_type": "code",
      "execution_count": null,
      "metadata": {
        "id": "lnbyqlYHI9Uo"
      },
      "outputs": [],
      "source": [
        "dataiter = iter(testloader)\n",
        "image, label = next(dataiter)"
      ]
    },
    {
      "cell_type": "code",
      "execution_count": null,
      "metadata": {
        "id": "edGUsdl4gOfz"
      },
      "outputs": [],
      "source": [
        "# Normalisation params\n",
        "mean= 0.5\n",
        "std=0.5\n",
        "min_val = (0.0 - mean) / std  # = -1.0\n",
        "max_val = (1.0 - mean) / std  # = 1.0\n",
        "\n",
        "# Scale epsilon and alpha to model's normalized space\n",
        "# epsilon_scaled = epsilon / std  \n",
        "# alpha_scaled = alpha / std        "
      ]
    },
    {
      "cell_type": "code",
      "execution_count": null,
      "metadata": {
        "id": "1Vt3Rl7BI8mo"
      },
      "outputs": [],
      "source": [
        "def pgd_attack(model, image, label, epsilon, alpha, num_of_steps, random_start):\n",
        "\n",
        "    epsilon_scaled = epsilon / std\n",
        "    alpha_scaled = alpha / std\n",
        "    \"\"\"\n",
        "    Why Scaling epsilon and alpha is Necessary\n",
        "    Input Space Mismatch\n",
        "\n",
        "    Our model was trained on normalized inputs (transformed to mean=0.5, std=0.5).\n",
        "    Raw pixel perturbations (epsilon=0.3 in [0, 1]) must be scaled to match the model’s expected range.\n",
        "\n",
        "    Physical Meaning\n",
        "\n",
        "    Unscaled attack:\n",
        "        A perturbation of 0.3 in pixel space ([0, 1]) is only 0.06 in normalized space ([-1, 1]).\n",
        "        Result: The attack is 2× weaker than intended.\n",
        "    Scaled attack:\n",
        "        Ensures epsilon=0.3 covers the same relative distortion in both pixel and normalized spaces.\n",
        "    \"\"\"\n",
        "\n",
        "    if random_start:\n",
        "      noise = torch.empty_like(image).uniform_(-epsilon_scaled,epsilon_scaled)\n",
        "      adv_image = image + noise\n",
        "    else:\n",
        "      adv_image = image.clone()\n",
        "    '''\n",
        "    torch.empty_like(image): Creates a new tensor with the same shape and data type as image but without initializing its values.\n",
        "    .uniform_(-epsilon_scaled, epsilon_sclaed): Fills that tensor in-place with random numbers sampled uniformly between −epsilon_scaled and epsilon_scaled.\n",
        "    '''\n",
        "\n",
        "    for _ in range(num_of_steps):\n",
        "      adv_image.requires_grad = True\n",
        "      output = model(adv_image) #forward pass\n",
        "      #finding loss\n",
        "      lossfn = nn.CrossEntropyLoss()\n",
        "      loss = lossfn(output, label)\n",
        "      #backward pass\n",
        "      loss.backward()\n",
        "      #finding gradient\n",
        "      grad = adv_image.grad\n",
        "      adv_image = adv_image + (alpha_scaled * grad.sign()) # updating the adversarial image by moving it in the direction of the gradient\n",
        "      # need to ensure epislon bound\n",
        "      # clip the perturbation (must ensure that this difference does not exceed + or - epsilon for each pixel)\n",
        "      perturbation = torch.clamp(adv_image - image, -epsilon_scaled, epsilon_scaled)\n",
        "      # reconstruct the image\n",
        "      adv_image = image + perturbation\n",
        "      adv_image = torch.clamp(adv_image, min_val, max_val)\n",
        "\n",
        "      # Detach and reset gradients for the next iteration\n",
        "      adv_image = adv_image.detach()\n",
        "      adv_image.grad = None\n",
        "\n",
        "    return adv_image\n",
        "\n",
        "\n"
      ]
    },
    {
      "cell_type": "code",
      "execution_count": null,
      "metadata": {
        "collapsed": true,
        "id": "n0_KGT1BnLKI"
      },
      "outputs": [],
      "source": [
        "adversarial_output = pgd_attack(model, image, label, epsilon, alpha, num_of_steps, random_start)"
      ]
    },
    {
      "cell_type": "code",
      "execution_count": null,
      "metadata": {
        "colab": {
          "base_uri": "https://localhost:8080/"
        },
        "id": "r3T1pLakI8to",
        "outputId": "865371db-d102-477a-e280-fe4304281db5"
      },
      "outputs": [
        {
          "name": "stdout",
          "output_type": "stream",
          "text": [
            "Predicted Label: 230\n",
            "Original Label: 7\n"
          ]
        }
      ],
      "source": [
        "#adversarial_output = model(adv_image)\n",
        "predicted_label = torch.argmax(adversarial_output)\n",
        "print(\"Predicted Label:\", predicted_label.item())\n",
        "print(\"Original Label:\", label.item())"
      ]
    },
    {
      "cell_type": "code",
      "execution_count": null,
      "metadata": {
        "colab": {
          "base_uri": "https://localhost:8080/",
          "height": 287
        },
        "id": "XWDEpcbjI9XA",
        "outputId": "c65a8595-9fcd-4c0a-a135-a00bc35cc149"
      },
      "outputs": [
        {
          "data": {
            "image/png": "[encoded data removed]",
            "text/plain": [
              "<Figure size 1000x400 with 3 Axes>"
            ]
          },
          "metadata": {},
          "output_type": "display_data"
        }
      ],
      "source": [
        "import matplotlib.pyplot as plt\n",
        "import numpy as np\n",
        "\n",
        "# Convert images from tensor to numpy\n",
        "orig_image_np = image.squeeze().detach().cpu().numpy()  # Remove batch & move to CPU\n",
        "adv_image_np = adversarial_output.squeeze().detach().cpu().numpy()  # Same for adversarial image\n",
        "perturbation = adv_image_np - orig_image_np  # Compute the actual noise\n",
        "\n",
        "# Plot all three: Original, Adversarial, Perturbation\n",
        "fig, axes = plt.subplots(1, 3, figsize=(10, 4))\n",
        "\n",
        "axes[0].imshow(orig_image_np, cmap=\"gray\")\n",
        "axes[0].set_title(\"Original Image\")\n",
        "axes[0].axis(\"off\")\n",
        "\n",
        "axes[1].imshow(adv_image_np, cmap=\"gray\")\n",
        "axes[1].set_title(\"Adversarial Image\")\n",
        "axes[1].axis(\"off\")\n",
        "\n",
        "axes[2].imshow(perturbation, cmap=\"gray\")\n",
        "axes[2].set_title(\"Perturbation (Difference)\")\n",
        "axes[2].axis(\"off\")\n",
        "\n",
        "plt.show()"
      ]
    },
    {
      "cell_type": "code",
      "execution_count": null,
      "metadata": {
        "id": "4x3BCcsmI9fF"
      },
      "outputs": [],
      "source": [
        "# This was just one example, now, Ill try to make the test set PGD adversarial and see how the performance drops\n",
        "\n",
        "adv_examples = []  # Store adversarial images\n",
        "true_labels = []   # Store true labels\n",
        "num_of_steps = 40\n",
        "random_start = True # boolean to do random initialization\n",
        "\n",
        "#strength of the perturbation\n",
        "#epsilon = 0.1\n",
        "#epsilon = 0.2\n",
        "epsilon = 0.3\n",
        "alpha = epsilon / num_of_steps #step size\n",
        "\n",
        "\n",
        "testloader2 = DataLoader(testset, batch_size=64, shuffle=False) #loading 64 imgs in a batch\n",
        "# Getting test images\n",
        "dataiter = iter(testloader2)\n",
        "images, labels = next(dataiter)\n",
        "\n",
        "# Loop through all test batches\n",
        "for images, labels in testloader2:\n",
        "  adv_images = pgd_attack(model, images, labels, epsilon, alpha, num_of_steps, random_start)\n",
        "  adv_examples.append(adv_images)\n",
        "  true_labels.append(labels.detach())\n",
        "\n",
        "adv_examples = torch.cat(adv_examples, dim=0)\n",
        "true_labels = torch.cat(true_labels, dim=0)"
      ]
    },
    {
      "cell_type": "code",
      "execution_count": null,
      "metadata": {
        "colab": {
          "base_uri": "https://localhost:8080/"
        },
        "id": "TUET2k2KI9lu",
        "outputId": "ddbf6673-295a-482f-fcd3-c5a2498aaa08"
      },
      "outputs": [
        {
          "name": "stdout",
          "output_type": "stream",
          "text": [
            "Generated adversarial dataset shape: torch.Size([10000, 1, 28, 28])\n"
          ]
        }
      ],
      "source": [
        "print(\"Generated adversarial dataset shape:\", adv_examples.shape)"
      ]
    },
    {
      "cell_type": "code",
      "execution_count": null,
      "metadata": {
        "id": "1R7BMqgUI9to"
      },
      "outputs": [],
      "source": [
        "from torch.utils.data import TensorDataset, DataLoader\n",
        "\n",
        "# Wrap adversarial examples and labels in a dataset\n",
        "adv_dataset = TensorDataset(adv_examples, true_labels)\n",
        "\n",
        "# Create DataLoader for adversarial examples\n",
        "adv_testloader = DataLoader(adv_dataset, batch_size=64, shuffle=False)"
      ]
    },
    {
      "cell_type": "code",
      "execution_count": null,
      "metadata": {
        "colab": {
          "base_uri": "https://localhost:8080/"
        },
        "id": "meeFPQlgI91S",
        "outputId": "c905712f-2695-4d8d-f94d-82bd9a80b1d6"
      },
      "outputs": [
        {
          "name": "stdout",
          "output_type": "stream",
          "text": [
            "Accuracy of the model on the adversarial test set: 0.09%\n"
          ]
        }
      ],
      "source": [
        "correct = 0\n",
        "total = 0\n",
        "\n",
        "with torch.no_grad():\n",
        "  for images, labels in adv_testloader:\n",
        "    outputs = model(images)\n",
        "    _, predicted = torch.max(outputs, 1)\n",
        "    total += labels.size(0)\n",
        "    correct += (predicted == labels).sum().item()\n",
        "\n",
        "accuracy_adv = 100 * correct / total\n",
        "print(f'Accuracy of the model on the adversarial test set: {accuracy_adv:.2f}%')"
      ]
    },
    {
      "cell_type": "code",
      "execution_count": null,
      "metadata": {
        "id": "1tVeASbzI98x"
      },
      "outputs": [],
      "source": [
        "################### The attack is very powerful, testing with all epsilons #############################"
      ]
    },
    {
      "cell_type": "code",
      "execution_count": null,
      "metadata": {
        "colab": {
          "base_uri": "https://localhost:8080/"
        },
        "id": "n71diLepN1qm",
        "outputId": "c187d8b4-b916-4525-f4ad-e8afd93030c6"
      },
      "outputs": [
        {
          "name": "stdout",
          "output_type": "stream",
          "text": [
            "Accuracy of the model on the adversarial test set with epsilon = 0.1: 83.25%\n",
            "Accuracy of the model on the adversarial test set with epsilon = 0.2: 16.99%\n",
            "Accuracy of the model on the adversarial test set with epsilon = 0.3: 0.06%\n"
          ]
        }
      ],
      "source": [
        "from torch.utils.data import TensorDataset, DataLoader\n",
        "\n",
        "epsilon_list = [0.1,0.2,0.3]\n",
        "accuracies = []\n",
        "num_of_steps = 40\n",
        "random_start = True\n",
        "\n",
        "\n",
        "for i in epsilon_list:\n",
        "\n",
        "  adv_examples = []  # Store adversarial images\n",
        "  true_labels = []   # Store true labels\n",
        "\n",
        "  #strength of the perturbation\n",
        "  epsilon = i\n",
        "  alpha = (epsilon / num_of_steps)  #step size\n",
        "  testloader = DataLoader(testset, batch_size=64, shuffle=False) #loading 64 imgs in a batch\n",
        "\n",
        "  # Loop through all test batches\n",
        "  for images, labels in testloader:\n",
        "    adv_images = pgd_attack(model, images, labels, epsilon, alpha, num_of_steps, random_start)\n",
        "    adv_examples.append(adv_images)\n",
        "    true_labels.append(labels.detach())\n",
        "\n",
        "  adv_examples = torch.cat(adv_examples, dim=0)\n",
        "  true_labels = torch.cat(true_labels, dim=0)\n",
        "\n",
        "  # Wrap adversarial examples and labels in a dataset\n",
        "  adv_dataset2 = TensorDataset(adv_examples, true_labels)\n",
        "\n",
        "  # Create DataLoader for adversarial examples\n",
        "  adv_testloader = DataLoader(adv_dataset2, batch_size=64, shuffle=False)\n",
        "  correct = 0\n",
        "  total = 0\n",
        "\n",
        "  with torch.no_grad():\n",
        "    for images, labels in adv_testloader:\n",
        "      outputs = model(images)\n",
        "      _, predicted = torch.max(outputs, 1)\n",
        "      total += labels.size(0)\n",
        "      correct += (predicted == labels).sum().item()\n",
        "\n",
        "  accuracy_adv = 100 * correct / total\n",
        "  print(f'Accuracy of the model on the adversarial test set with epsilon = {epsilon}: {accuracy_adv:.2f}%')\n",
        "  accuracies.append(accuracy_adv)"
      ]
    },
    {
      "cell_type": "code",
      "execution_count": null,
      "metadata": {
        "colab": {
          "base_uri": "https://localhost:8080/",
          "height": 564
        },
        "id": "e_YICItLvRON",
        "outputId": "6b739fc1-bbad-4724-9733-560451aa8667"
      },
      "outputs": [
        {
          "data": {
            "image/png": "[encoded data removed]",
            "text/plain": [
              "<Figure size 800x600 with 1 Axes>"
            ]
          },
          "metadata": {},
          "output_type": "display_data"
        }
      ],
      "source": [
        "import matplotlib.pyplot as plt\n",
        "\n",
        "# Epsilon values and corresponding accuracy from your results\n",
        "#epsilons = [0.1, 0.2, 0.3]\n",
        "#accuracies = [84.40, 20.67, 0.15]\n",
        "\n",
        "# Plot\n",
        "plt.figure(figsize=(8, 6))\n",
        "plt.plot(epsilon_list, accuracies, marker='o', linestyle='-', color='b', label=\"Accuracy Drop\")\n",
        "\n",
        "# Labels and Title\n",
        "plt.xlabel(\"Epsilon (Perturbation Strength)\")\n",
        "plt.ylabel(\"Accuracy (%)\")\n",
        "plt.title(\"Effect of PGD Attack on Model Accuracy\")\n",
        "plt.xticks(epsilon_list)\n",
        "plt.grid(True)\n",
        "plt.legend()\n",
        "\n",
        "# Highlight distortion region (using a shaded region)\n",
        "plt.axvspan(0.1, 0.2, color='red', alpha=0.2, label=\"Drastic Accuracy Drop\")\n",
        "plt.text(0.15, 1, 'Drastic Accuracy Loss', color='red', ha='center', va='center')\n",
        "\n",
        "# Display the plot\n",
        "plt.show()"
      ]
    },
    {
      "cell_type": "code",
      "execution_count": null,
      "metadata": {
        "colab": {
          "base_uri": "https://localhost:8080/",
          "height": 470
        },
        "id": "bJ-6shh3ql_n",
        "outputId": "51411ac1-a3a3-4b24-f15d-8e27f601b31e"
      },
      "outputs": [
        {
          "data": {
            "application/vnd.google.colaboratory.intrinsic+json": {
              "type": "string"
            },
            "text/plain": [
              "'\\n    The image should look visibly perturbed (e.g., noisy or distorted) but still recognizable as a digit.\\n'"
            ]
          },
          "execution_count": 18,
          "metadata": {},
          "output_type": "execute_result"
        },
        {
          "data": {
            "image/png": "[encoded data removed]",
            "text/plain": [
              "<Figure size 640x480 with 1 Axes>"
            ]
          },
          "metadata": {},
          "output_type": "display_data"
        }
      ],
      "source": [
        "# Verification\n",
        "# Visual\n",
        "# Denormalize and plot an adversarial example (ε=0.3)\n",
        "adv_example = adv_examples[0].cpu() * 0.5 + 0.5  # Denormalize to [0, 1]\n",
        "plt.imshow(adv_example.squeeze(), cmap='gray')\n",
        "plt.title(f\"PGD (ε=0.3), Label: {true_labels[0].item()}\")\n",
        "\n",
        "\"\"\"\n",
        "    The image should look visibly perturbed (e.g., noisy or distorted) but still recognizable as a digit.\n",
        "\"\"\""
      ]
    },
    {
      "cell_type": "code",
      "execution_count": null,
      "metadata": {
        "id": "NJ8lKzeEI-Yb"
      },
      "outputs": [],
      "source": [
        "#### PGD implemented successfully!"
      ]
    }
  ],
  "metadata": {
    "accelerator": "GPU",
    "colab": {
      "gpuType": "T4",
      "provenance": []
    },
    "kernelspec": {
      "display_name": "Python 3",
      "name": "python3"
    },
    "language_info": {
      "name": "python"
    }
  },
  "nbformat": 4,
  "nbformat_minor": 0
}
