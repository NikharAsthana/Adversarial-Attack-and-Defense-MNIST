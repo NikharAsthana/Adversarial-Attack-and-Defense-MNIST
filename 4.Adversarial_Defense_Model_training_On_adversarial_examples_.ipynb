{
  "cells": [
    {
      "cell_type": "markdown",
      "metadata": {
        "id": "INRifH50Wyn-"
      },
      "source": [
        "Before adversarial training, Note that typically, robustness to adversarial examples can sometimes reduce accuracy on clean data.\n",
        "\n",
        "#**Dynamic Adversarial Image Generation vs. Batch Pre-computed Adversarial Image Generation: What's better for defense?**\n",
        "\n",
        "##**Dynamic Generation (On-the-Fly)**\n",
        "\n",
        "- Adaptivity:  Generating adversarial examples on the fly means that the adversaries are tailored to the current state of your model. As the model learns and evolves, the adversarial examples are continuously updated, keeping the model challenged with the most relevant \"mistakes.\" This is analogous to practicing with a sparring partner who adapts to your skill level in real time.\n",
        "\n",
        "- Compute Cost:\n",
        "The downside is that dynamically generating adversarial examples can significantly increase the computational load during training. It means more forward and backward passes per training step, which could slow down your training.\n",
        "\n",
        "\n",
        "\n",
        "##**Pre-Generation (Batch Pre-Computed)**\n",
        "\n",
        "- Efficiency:\n",
        "    Pre-generating adversarial examples means you compute them once and then reuse them during training. This can speed up your training loop because you're not doing the extra computations for each training step.\n",
        "\n",
        "-  Static Nature:\n",
        "    However, pre-generated examples may become less effective as the model improves. The model might eventually \"overfit\" to these specific adversarial examples rather than becoming more robust in general.\n"
      ]
    },
    {
      "cell_type": "code",
      "execution_count": null,
      "metadata": {
        "id": "-iCVMpVgT9rt"
      },
      "outputs": [],
      "source": [
        "### FGSM and PGD as functions for easy use ###\n",
        "\n",
        "# Normalisation params\n",
        "mean= 0.5\n",
        "std=0.5\n",
        "min_val = (0.0 - mean) / std  # = -1.0\n",
        "max_val = (1.0 - mean) / std  # = 1.0\n",
        "\n",
        "\n",
        "def fgsm_attack(image, label, model, epsilonFGSM):\n",
        "  model.zero_grad() \n",
        "  epsilonFGSM_scaled = epsilonFGSM / std\n",
        "  image.requires_grad = True\n",
        "  output = model(image)\n",
        "  lossfn = torch.nn.CrossEntropyLoss()\n",
        "  loss = lossfn(output, label)\n",
        "  loss.backward()\n",
        "  grad = image.grad\n",
        "  perturbation = epsilonFGSM_scaled * grad.sign()\n",
        "  adv_image = torch.clamp((image + perturbation),min_val,max_val)\n",
        "  return adv_image\n",
        "\n",
        "def pgd_attack(model, image, label, epsilonPGD, alpha, num_of_steps, random_start):\n",
        "    epsilonPGD_scaled = epsilonPGD / std\n",
        "    alpha_scaled = alpha / std\n",
        "    if random_start:\n",
        "      noise = torch.empty_like(image).uniform_(-epsilonPGD_scaled,epsilonPGD_scaled)\n",
        "      adv_image = image + noise\n",
        "    else:\n",
        "      adv_image = image.clone()\n",
        "\n",
        "    for _ in range(num_of_steps):\n",
        "      adv_image.requires_grad = True\n",
        "      output = model(adv_image)\n",
        "      lossfn = nn.CrossEntropyLoss()\n",
        "      loss = lossfn(output, label)\n",
        "      loss.backward()\n",
        "      grad = adv_image.grad\n",
        "      adv_image = adv_image + (alpha_scaled * grad.sign())\n",
        "      perturbation = torch.clamp(adv_image - image, -epsilonPGD_scaled, epsilonPGD_scaled)\n",
        "      adv_image = (torch.clamp((image + perturbation), min_val, max_val)).detach()\n",
        "      adv_image.grad = None\n",
        "\n",
        "\n",
        "    return adv_image\n",
        "\n",
        "\n"
      ]
    },
    {
      "cell_type": "code",
      "execution_count": null,
      "metadata": {
        "colab": {
          "base_uri": "https://localhost:8080/"
        },
        "id": "PQRoqOED4p3h",
        "outputId": "eb243f34-50ba-490d-a2e3-eaf076101421"
      },
      "outputs": [
        {
          "name": "stderr",
          "output_type": "stream",
          "text": [
            "100%|██████████| 9.91M/9.91M [00:00<00:00, 53.9MB/s]\n",
            "100%|██████████| 28.9k/28.9k [00:00<00:00, 1.69MB/s]\n",
            "100%|██████████| 1.65M/1.65M [00:00<00:00, 12.9MB/s]\n",
            "100%|██████████| 4.54k/4.54k [00:00<00:00, 7.12MB/s]\n"
          ]
        }
      ],
      "source": [
        "# Load the MNIST dataset again\n",
        "import torchvision\n",
        "import torchvision.transforms as transforms\n",
        "from torchvision.datasets import MNIST\n",
        "from torch.utils.data import DataLoader\n",
        "\n",
        "\n",
        "# Splitting 40% clean, 30% fgsm, 30% pgd for the train set\n",
        "\n",
        "\n",
        "transform = transforms.Compose([transforms.ToTensor(), transforms.Normalize((0.5,), (0.5,))])\n",
        "trainset  = torchvision.datasets.MNIST(root=\"./data\", train=True, download=True, transform=transform)\n",
        "testset   = torchvision.datasets.MNIST(root=\"./data\", train=False, download=True, transform=transform)\n",
        "\n",
        "trainloader = DataLoader(trainset, batch_size=64, shuffle=True)\n",
        "testloader  = DataLoader(testset, batch_size=64, shuffle=False)"
      ]
    },
    {
      "cell_type": "code",
      "execution_count": null,
      "metadata": {
        "id": "R8dG7wk5sVfo"
      },
      "outputs": [],
      "source": [
        "### Params\n",
        "\n",
        "#FGSM\n",
        "epsilonFGSM = 0.5\n",
        "# e = 0.4 to 0.5 seems like a good middle ground where the adversarial images dont get too distorted\n",
        "\"\"\"\n",
        "Training with a higher epsilon (e.g., ε = 0.6 or more) is possible, but it introduces critical trade-offs and challenges that often make it counterproductive.\n",
        "-- Overly Large Perturbations Degrade Training\n",
        "    Adversarial examples lose semantic meaning: When ε is too large (e.g., ε = 0.6 in pixel space for MNIST), perturbations dominate the original image. Digits become unrecognizable even to humans, turning into noise.\n",
        "        Example: A \"3\" perturbed with ε = 0.6 may look like random scribbles.\n",
        "        Result: The model learns to classify noise, not robust features.\n",
        "    Generalization fails: The model overfits to extreme adversarial examples and performs poorly on clean or moderately perturbed data.\n",
        "\n",
        "\"\"\"\n",
        "\n",
        "#PGD\n",
        "num_of_steps = 40\n",
        "random_start = True # boolean to do random initialization\n",
        "epsilonPGD = 0.3\n",
        "alpha = epsilonPGD / num_of_steps #step size"
      ]
    },
    {
      "cell_type": "code",
      "execution_count": null,
      "metadata": {
        "id": "SSH06XhLMgGY"
      },
      "outputs": [],
      "source": [
        "### Load libraries\n",
        "import torch\n",
        "import torch.nn as nn\n",
        "import torch.nn.functional as F\n",
        "import torch.optim as optim\n",
        "import torchvision\n",
        "import torchvision.transforms as transforms\n",
        "from torch.utils.data import DataLoader\n",
        "\n",
        "#Defining the CNN that we'll train to be robust against attacks\n",
        "class CNN(nn.Module):\n",
        "  def __init__(self):\n",
        "    super(CNN, self).__init__()\n",
        "    self.conv1 = nn.Conv2d(1, 32, kernel_size=3, padding=1)\n",
        "    self.conv2 = nn.Conv2d(32, 64, kernel_size=3, padding=1)\n",
        "    self.pool = nn.MaxPool2d(2, 2)\n",
        "    self.fc1 = nn.Linear(64 * 7 * 7, 128)\n",
        "    self.fc2 = nn.Linear(128, 10)\n",
        "\n",
        "  def forward(self, x):\n",
        "      x = self.pool(F.relu(self.conv1(x)))\n",
        "      x = self.pool(F.relu(self.conv2(x)))\n",
        "      x = x.view(-1, 64 * 7 * 7)\n",
        "      x = F.relu(self.fc1(x))\n",
        "      x = self.fc2(x)\n",
        "      return x\n",
        "device = torch.device(\"cuda\" if torch.cuda.is_available() else \"cpu\")\n",
        "model = CNN().to(device)"
      ]
    },
    {
      "cell_type": "code",
      "execution_count": null,
      "metadata": {
        "colab": {
          "base_uri": "https://localhost:8080/"
        },
        "id": "dFFOySq_4pjk",
        "outputId": "99c3ca96-6737-4a7a-99e4-80de0e63e897"
      },
      "outputs": [
        {
          "name": "stdout",
          "output_type": "stream",
          "text": [
            "Epoch 1, Loss: 0.9675451293786261\n",
            "Epoch 2, Loss: 0.44376236996424795\n",
            "Epoch 3, Loss: 0.3122341380685941\n",
            "Epoch 4, Loss: 0.2822312189187648\n",
            "Epoch 5, Loss: 0.22592634072195666\n",
            "Model training complete. Saved as mnist_cnn_adversarially_trained.pth\n"
          ]
        }
      ],
      "source": [
        "import random\n",
        "\n",
        "# Defining params\n",
        "# Define weights for each mode: 1 = clean, 2 = FGSM, 3 = PGD\n",
        "weights = [0.4, 0.3, 0.3]  # Clean: 40%, FGSM: 30%, PGD: 30%\n",
        "criterion = nn.CrossEntropyLoss()\n",
        "optimizer = optim.Adam(model.parameters(), lr=0.001)\n",
        "epochs = 5\n",
        "\n",
        "for epoch in range(epochs):\n",
        "  model.train()\n",
        "  running_loss = 0.0\n",
        "\n",
        "  for images, labels in trainloader:\n",
        "       # Move batch to the correct device\n",
        "       images, labels = images.to(device), labels.to(device)\n",
        "\n",
        "       # Randomly choose a mode based on weighted probabilities\n",
        "       mode = random.choices(population=[1, 2, 3], weights=weights, k=1)[0]\n",
        "\n",
        "       if mode == 1:\n",
        "          # Use clean images\n",
        "          input_images = images\n",
        "       elif mode == 2:\n",
        "          # Generate FGSM adversarial examples\n",
        "          input_images = fgsm_attack(images, labels, model, epsilonFGSM)\n",
        "       elif mode == 3:\n",
        "          # Generate PGD adversarial examples\n",
        "          input_images = pgd_attack(model, images, labels, epsilonPGD, alpha, num_of_steps, random_start)\n",
        "          # def pgd_attack(model, image, label, epsilon, alpha, num_of_steps, random_start):\n",
        "\n",
        "\n",
        "        # Forward pass with the selected batch\n",
        "       optimizer.zero_grad()\n",
        "       outputs = model(input_images)\n",
        "       loss = criterion(outputs, labels)\n",
        "       loss.backward()\n",
        "       optimizer.step()\n",
        "       running_loss += loss.item()\n",
        "\n",
        "  print(f\"Epoch {epoch+1}, Loss: {running_loss / len(trainloader)}\")\n",
        "\n",
        "# Save model\n",
        "torch.save(model.state_dict(), \"mnist_cnn_adversarially_trained.pth\")\n",
        "print(\"Model training complete. Saved as mnist_cnn_adversarially_trained.pth\")\n",
        "\n"
      ]
    },
    {
      "cell_type": "code",
      "execution_count": null,
      "metadata": {
        "colab": {
          "base_uri": "https://localhost:8080/"
        },
        "id": "mDnKJd3zqsjU",
        "outputId": "c80d7a9a-7959-4e0b-c28f-607c85a28dce"
      },
      "outputs": [
        {
          "name": "stdout",
          "output_type": "stream",
          "text": [
            "Accuracy of the model on the vanilla test set: 98.22%\n"
          ]
        }
      ],
      "source": [
        "# testing accuracy on vanilla images\n",
        "correct = 0\n",
        "total = 0\n",
        "\n",
        "with torch.no_grad():\n",
        "  for images, labels in testloader:\n",
        "    # Move images and labels to the same device as the model\n",
        "    images, labels = images.to(device), labels.to(device)  # Added this line\n",
        "    outputs = model(images)\n",
        "    _, predicted = torch.max(outputs, 1)\n",
        "    total += labels.size(0)\n",
        "    correct += (predicted == labels).sum().item()\n",
        "\n",
        "accuracy = 100 * correct / total\n",
        "print(f'Accuracy of the model on the vanilla test set: {accuracy:.2f}%')"
      ]
    },
    {
      "cell_type": "code",
      "execution_count": null,
      "metadata": {
        "colab": {
          "base_uri": "https://localhost:8080/"
        },
        "id": "_g0jhpqDm_lI",
        "outputId": "d2eee793-2d4e-448f-96e7-ac0bb68e1477"
      },
      "outputs": [
        {
          "name": "stdout",
          "output_type": "stream",
          "text": [
            "Model successfully loaded!\n"
          ]
        }
      ],
      "source": [
        "#Loading the model\n",
        "\n",
        "import torch\n",
        "import torch.nn as nn\n",
        "import torch.nn.functional as F\n",
        "\n",
        "# Define the same CNN model structure as before\n",
        "class CNN(nn.Module):\n",
        "    def __init__(self):\n",
        "        super(CNN, self).__init__()\n",
        "        self.conv1 = nn.Conv2d(1, 32, kernel_size=3, padding=1)\n",
        "        self.conv2 = nn.Conv2d(32, 64, kernel_size=3, padding=1)\n",
        "        self.pool = nn.MaxPool2d(2, 2)\n",
        "        self.fc1 = nn.Linear(64 * 7 * 7, 128)\n",
        "        self.fc2 = nn.Linear(128, 10)\n",
        "\n",
        "    def forward(self, x):\n",
        "        x = self.pool(F.relu(self.conv1(x)))\n",
        "        x = self.pool(F.relu(self.conv2(x)))\n",
        "        x = x.view(-1, 64 * 7 * 7)\n",
        "        x = F.relu(self.fc1(x))\n",
        "        x = self.fc2(x)\n",
        "        return x\n",
        "\n",
        "# Initialize model\n",
        "model = CNN()\n",
        "\n",
        "# Load the saved model state\n",
        "model.load_state_dict(torch.load('/content/mnist_cnn_adversarially_trained.pth', map_location=torch.device('cpu')))\n",
        "model.eval()  # Set model to evaluation mode\n",
        "\n",
        "print(\"Model successfully loaded!\")"
      ]
    },
    {
      "cell_type": "code",
      "execution_count": null,
      "metadata": {
        "colab": {
          "base_uri": "https://localhost:8080/"
        },
        "id": "lwBGzg4lqoAO",
        "outputId": "d2f4718d-15fd-427c-c70b-8a38e668c291"
      },
      "outputs": [
        {
          "name": "stdout",
          "output_type": "stream",
          "text": [
            "Accuracy of the model on the FGSM adversarial test set with epsilon = 0.1: 96.18%\n",
            "Accuracy of the model on the FGSM adversarial test set with epsilon = 0.2: 93.67%\n",
            "Accuracy of the model on the FGSM adversarial test set with epsilon = 0.3: 90.80%\n",
            "Accuracy of the model on the FGSM adversarial test set with epsilon = 0.4: 89.00%\n",
            "Accuracy of the model on the FGSM adversarial test set with epsilon = 0.5: 89.73%\n",
            "Accuracy of the model on the FGSM adversarial test set with epsilon = 0.6: 74.90%\n",
            "Accuracy of the model on the FGSM adversarial test set with epsilon = 0.7: 45.27%\n",
            "Accuracy of the model on the FGSM adversarial test set with epsilon = 0.8: 36.47%\n",
            "Accuracy of the model on the FGSM adversarial test set with epsilon = 0.9: 30.94%\n"
          ]
        }
      ],
      "source": [
        "# Accuracy test on fgsm adversarial dataset\n",
        "# Single for loop for all epsilons\n",
        "\n",
        "from torch.utils.data import TensorDataset, DataLoader\n",
        "\n",
        "epsilons = [0.1, 0.2, 0.3, 0.4, 0.5, 0.6, 0.7, 0.8, 0.9]\n",
        "accuracies = []\n",
        "\n",
        "for epsilon in epsilons:\n",
        "  epsilon_scaled = epsilon / std # need to scale epsilon due to normalisation\n",
        "  testloader2 = DataLoader(testset, batch_size=64, shuffle=False) #loading 64 imgs in a batch\n",
        "\n",
        "  #images will now be a tensor of shape (64, 1, 28, 28), meaning 64 images each of size 1x28x28 (grayscale).\n",
        "  #labels will be a tensor of shape (64,), containing 64 labels.\n",
        "  # Reset lists for each epsilon\n",
        "  adv_examples = []\n",
        "  true_labels = []\n",
        "\n",
        "  # Loop through all test batches\n",
        "  for images, labels in testloader2:\n",
        "    #Ensuring imgs need gradient\n",
        "    images, labels = images.to(device), labels.to(device) # Move images and labels to the device\n",
        "    images.requires_grad = True\n",
        "\n",
        "    #  Forward pass\n",
        "    outputs = model(images)\n",
        "\n",
        "    # Compute loss for entire batch\n",
        "    lossfn = torch.nn.CrossEntropyLoss()\n",
        "    loss = lossfn(outputs, labels)\n",
        "\n",
        "    # Backward pass\n",
        "    model.zero_grad()   #resets (clears) the gradients of all model parameters in PyTorch. This is necessary before calling backward() to prevent accumulation from previous iterations.\n",
        "    loss.backward()\n",
        "\n",
        "    # Get the sign of the gradients for all images in the batch\n",
        "    grad = images.grad.sign()\n",
        "\n",
        "    # Generate adversarial examples for the entire batch\n",
        "    adv_images = images + epsilon_scaled * grad\n",
        "    adv_images = torch.clamp(adv_images, min_val, max_val)  # Keep values in valid range\n",
        "\n",
        "    # Store adversarial examples & labels\n",
        "    adv_examples.append(adv_images.detach())\n",
        "    true_labels.append(labels.detach())\n",
        "\n",
        "\n",
        "  # Concatenate all batches into one tensor\n",
        "  adv_examples = torch.cat(adv_examples, dim=0)\n",
        "  true_labels = torch.cat(true_labels, dim=0)\n",
        "\n",
        "  # Wrap adversarial examples and labels in a dataset\n",
        "  adv_dataset = TensorDataset(adv_examples, true_labels)\n",
        "\n",
        "  # Create DataLoader for adversarial examples\n",
        "  adv_testloader = DataLoader(adv_dataset, batch_size=64, shuffle=False)\n",
        "\n",
        "  correct = 0\n",
        "  total = 0\n",
        "\n",
        "  with torch.no_grad():\n",
        "    for images, labels in adv_testloader:\n",
        "      outputs = model(images)\n",
        "      _, predicted = torch.max(outputs, 1)\n",
        "      total += labels.size(0)\n",
        "      correct += (predicted == labels).sum().item()\n",
        "\n",
        "  accuracy_adv = 100 * correct / total\n",
        "  print(f'Accuracy of the model on the FGSM adversarial test set with epsilon = {epsilon}: {accuracy_adv:.2f}%')\n",
        "  accuracies.append(accuracy_adv)\n"
      ]
    },
    {
      "cell_type": "code",
      "execution_count": null,
      "metadata": {
        "colab": {
          "base_uri": "https://localhost:8080/",
          "height": 564
        },
        "id": "vClYcDJmqn8Z",
        "outputId": "a0767a16-0a78-450d-b572-b7d3ca8064f0"
      },
      "outputs": [
        {
          "data": {
            "image/png": "[encoded data removed]",
            "text/plain": [
              "<Figure size 800x600 with 1 Axes>"
            ]
          },
          "metadata": {},
          "output_type": "display_data"
        }
      ],
      "source": [
        "import matplotlib.pyplot as plt\n",
        "\n",
        "# Epsilon values and corresponding accuracy from our results\n",
        "# Plot\n",
        "plt.figure(figsize=(8, 6))\n",
        "plt.plot(epsilons, accuracies, marker='o', linestyle='-', color='b', label=\"Accuracy Drop\")\n",
        "\n",
        "# Labels and Title\n",
        "plt.xlabel(\"Epsilon (Perturbation Strength)\")\n",
        "plt.ylabel(\"Accuracy (%)\")\n",
        "plt.title(\"Effect of FGSM Attack on Model Accuracy\")\n",
        "plt.xticks(epsilons)\n",
        "plt.grid(True)\n",
        "plt.legend()\n",
        "\n",
        "# Highlight distortion region (using a shaded region)\n",
        "plt.axvspan(0.5, 0.9, color='red', alpha=0.2, label=\"Model Thoroughly Fooled\")\n",
        "plt.text(0.75, 50, 'High Image Distortion & ,\\nModel Thoroughly Fooled', color='red', ha='center', va='center')\n",
        "\n",
        "# Display the plot\n",
        "plt.show()"
      ]
    },
    {
      "cell_type": "code",
      "execution_count": null,
      "metadata": {
        "colab": {
          "base_uri": "https://localhost:8080/"
        },
        "id": "ZJzxph3F5ZFg",
        "outputId": "67e1823e-5345-40e5-d33b-d87614b64bbc"
      },
      "outputs": [
        {
          "name": "stdout",
          "output_type": "stream",
          "text": [
            "Accuracy of the model on the PGD adversarial test set with epsilon = 0.1: 96.24%\n",
            "Accuracy of the model on the PGD adversarial test set with epsilon = 0.2: 93.06%\n",
            "Accuracy of the model on the PGD adversarial test set with epsilon = 0.3: 87.19%\n"
          ]
        }
      ],
      "source": [
        "# Accuracy test on pgd adversarial dataset\n",
        "\n",
        "from torch.utils.data import TensorDataset, DataLoader\n",
        "\n",
        "epsilon_list = [0.1,0.2,0.3]\n",
        "accuracies = []\n",
        "num_of_steps = 40\n",
        "random_start = True\n",
        "\n",
        "\n",
        "for i in epsilon_list:\n",
        "\n",
        "  adv_examples = []  # Store adversarial images\n",
        "  true_labels = []   # Store true labels\n",
        "\n",
        "  #strength of the perturbation\n",
        "  epsilon = i\n",
        "  alpha = (epsilon / num_of_steps)  #step size\n",
        "  testloader = DataLoader(testset, batch_size=64, shuffle=False) #loading 64 imgs in a batch\n",
        "\n",
        "  # Loop through all test batches\n",
        "  for images, labels in testloader:\n",
        "    #images, labels = images.to(device), labels.to(device) # Move images and labels to the device\n",
        "    adv_images = pgd_attack(model, images, labels, epsilon, alpha, num_of_steps, random_start)\n",
        "    adv_examples.append(adv_images)\n",
        "    true_labels.append(labels.detach())\n",
        "\n",
        "  adv_examples = torch.cat(adv_examples, dim=0)\n",
        "  true_labels = torch.cat(true_labels, dim=0)\n",
        "\n",
        "  # Wrap adversarial examples and labels in a dataset\n",
        "  adv_dataset2 = TensorDataset(adv_examples, true_labels)\n",
        "\n",
        "  # Create DataLoader for adversarial examples\n",
        "  adv_testloader = DataLoader(adv_dataset2, batch_size=64, shuffle=False)\n",
        "  correct = 0\n",
        "  total = 0\n",
        "\n",
        "  with torch.no_grad():\n",
        "    for images, labels in adv_testloader:\n",
        "      outputs = model(images)\n",
        "      _, predicted = torch.max(outputs, 1)\n",
        "      total += labels.size(0)\n",
        "      correct += (predicted == labels).sum().item()\n",
        "\n",
        "  accuracy_adv = 100 * correct / total\n",
        "  print(f'Accuracy of the model on the PGD adversarial test set with epsilon = {epsilon}: {accuracy_adv:.2f}%')\n",
        "  accuracies.append(accuracy_adv)"
      ]
    },
    {
      "cell_type": "code",
      "execution_count": null,
      "metadata": {
        "colab": {
          "base_uri": "https://localhost:8080/",
          "height": 564
        },
        "id": "7TxJ7shOqnrZ",
        "outputId": "bb22e3a5-d10d-45d6-8404-18b008cb0395"
      },
      "outputs": [
        {
          "data": {
            "image/png": "[encoded data removed]",
            "text/plain": [
              "<Figure size 800x600 with 1 Axes>"
            ]
          },
          "metadata": {},
          "output_type": "display_data"
        }
      ],
      "source": [
        "import matplotlib.pyplot as plt\n",
        "\n",
        "# Epsilon values and corresponding accuracy from our results\n",
        "epsilon_list = [0.1, 0.2, 0.3]\n",
        "\n",
        "# Plot\n",
        "plt.figure(figsize=(8, 6))\n",
        "plt.plot(epsilon_list, accuracies, marker='o', linestyle='-', color='b', label=\"Accuracy Drop\")\n",
        "\n",
        "# Labels and Title\n",
        "plt.xlabel(\"Epsilon (Perturbation Strength)\")\n",
        "plt.ylabel(\"Accuracy (%)\")\n",
        "plt.title(\"Effect of PGD Attack on Model Accuracy\")\n",
        "plt.xticks(epsilon_list)\n",
        "plt.grid(True)\n",
        "plt.legend()\n",
        "\n",
        "# Highlight distortion region (using a shaded region)\n",
        "#plt.axvspan(0.1, 0.2, color='red', alpha=0.2, label=\"Drastic Accuracy Drop\")\n",
        "#plt.text(0.15, 1, 'Drastic Accuracy Loss', color='red', ha='center', va='center')\n",
        "\n",
        "# Display the plot\n",
        "plt.show()"
      ]
    }
  ],
  "metadata": {
    "accelerator": "GPU",
    "colab": {
      "gpuType": "T4",
      "provenance": []
    },
    "kernelspec": {
      "display_name": "Python 3",
      "name": "python3"
    },
    "language_info": {
      "name": "python"
    }
  },
  "nbformat": 4,
  "nbformat_minor": 0
}
